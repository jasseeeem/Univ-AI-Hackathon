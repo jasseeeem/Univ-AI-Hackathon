{
 "cells": [
  {
   "cell_type": "markdown",
   "metadata": {},
   "source": [
    "\n",
    "# Import Python libraries."
   ]
  },
  {
   "cell_type": "code",
   "execution_count": null,
   "metadata": {},
   "outputs": [],
   "source": [
    "pip install imbalanced-learn\n",
    "pip install scikit-learn==0.23.1\n",
    "pip install --upgrade scikit-learn\n",
    "pip install delayed"
   ]
  },
  {
   "cell_type": "code",
   "execution_count": null,
   "metadata": {},
   "outputs": [],
   "source": [
    "import pandas as pd\n",
    "import numpy as np\n",
    "import matplotlib.pyplot as plt"
   ]
  },
  {
   "cell_type": "code",
   "execution_count": null,
   "metadata": {},
   "outputs": [],
   "source": [
    "pd.set_option('display.max_columns', None)\n",
    "pd.set_option('display.max_rows', None)"
   ]
  },
  {
   "cell_type": "markdown",
   "metadata": {},
   "source": [
    "# Import Datasets"
   ]
  },
  {
   "cell_type": "code",
   "execution_count": null,
   "metadata": {},
   "outputs": [],
   "source": [
    "train_data = pd.read_csv(r\"Training Data.csv\")\n",
    "test_data = pd.read_csv(r\"Test Data.csv\")"
   ]
  },
  {
   "cell_type": "code",
   "execution_count": null,
   "metadata": {},
   "outputs": [],
   "source": [
    "test_data.head()"
   ]
  },
  {
   "cell_type": "code",
   "execution_count": null,
   "metadata": {},
   "outputs": [],
   "source": [
    "train_data.head()"
   ]
  },
  {
   "cell_type": "markdown",
   "metadata": {},
   "source": [
    "# Cleaning the data"
   ]
  },
  {
   "cell_type": "code",
   "execution_count": null,
   "metadata": {},
   "outputs": [],
   "source": [
    "# One-Hot Encoding - Train Data\n",
    "train_data = train_data.merge(pd.get_dummies(train_data['married'], drop_first=True), left_index=True, right_index=True)\n",
    "train_data = train_data.merge(pd.get_dummies(train_data['house_ownership'], drop_first=True), left_index=True, right_index=True)\n",
    "train_data = train_data.merge(pd.get_dummies(train_data['car_ownership'], drop_first=True), left_index=True, right_index=True)\n",
    "train_data = train_data.merge(pd.get_dummies(train_data['profession'], drop_first=True), left_index=True, right_index=True)\n",
    "# train_data = train_data.merge(pd.get_dummies(train_data['state'], drop_first=True), left_index=True, right_index=True)\n",
    "train_data = train_data.merge(pd.get_dummies(train_data['city'], drop_first=True), left_index=True, right_index=True)"
   ]
  },
  {
   "cell_type": "code",
   "execution_count": null,
   "metadata": {},
   "outputs": [],
   "source": [
    "# One-Hot Encoding - Test Data\n",
    "test_data = test_data.merge(pd.get_dummies(test_data['married'], drop_first=True), left_index=True, right_index=True)\n",
    "test_data = test_data.merge(pd.get_dummies(test_data['house_ownership'], drop_first=True), left_index=True, right_index=True)\n",
    "test_data = test_data.merge(pd.get_dummies(test_data['car_ownership'], drop_first=True), left_index=True, right_index=True)\n",
    "test_data = test_data.merge(pd.get_dummies(test_data['profession'], drop_first=True), left_index=True, right_index=True)\n",
    "# test_data = test_data.merge(pd.get_dummies(test_data['state'], drop_first=True), left_index=True, right_index=True)\n",
    "test_data = test_data.merge(pd.get_dummies(test_data['city'], drop_first=True), left_index=True, right_index=True)"
   ]
  },
  {
   "cell_type": "code",
   "execution_count": null,
   "metadata": {},
   "outputs": [],
   "source": [
    "# Normalise Numbers - Train Data\n",
    "\n",
    "from sklearn import preprocessing\n",
    "min_max_scaler = preprocessing.MinMaxScaler()\n",
    "\n",
    "train_data = train_data.merge(pd.DataFrame(min_max_scaler.fit_transform(train_data[['income']].values.astype(float))), left_index=True, right_index=True)\n",
    "train_data = train_data.merge(pd.DataFrame(min_max_scaler.fit_transform(train_data[['age']].values.astype(float))), left_index=True, right_index=True)\n",
    "train_data = train_data.merge(pd.DataFrame(min_max_scaler.fit_transform(train_data[['experience']].values.astype(float))), left_index=True, right_index=True)\n",
    "train_data = train_data.merge(pd.DataFrame(min_max_scaler.fit_transform(train_data[['current_job_years']].values.astype(float))), left_index=True, right_index=True)\n",
    "train_data = train_data.merge(pd.DataFrame(min_max_scaler.fit_transform(train_data[['current_house_years']].values.astype(float))), left_index=True, right_index=True)"
   ]
  },
  {
   "cell_type": "code",
   "execution_count": null,
   "metadata": {},
   "outputs": [],
   "source": [
    "test_data # Normalise Numbers - Test Data\n",
    "\n",
    "test_data = test_data.merge(pd.DataFrame(min_max_scaler.fit_transform(test_data[['income']].values.astype(float))), left_index=True, right_index=True)\n",
    "test_data = test_data.merge(pd.DataFrame(min_max_scaler.fit_transform(test_data[['age']].values.astype(float))), left_index=True, right_index=True)\n",
    "test_data = test_data.merge(pd.DataFrame(min_max_scaler.fit_transform(test_data[['experience']].values.astype(float))), left_index=True, right_index=True)\n",
    "test_data = test_data.merge(pd.DataFrame(min_max_scaler.fit_transform(test_data[['current_job_years']].values.astype(float))), left_index=True, right_index=True)\n",
    "test_data = test_data.merge(pd.DataFrame(min_max_scaler.fit_transform(test_data[['current_house_years']].values.astype(float))), left_index=True, right_index=True)"
   ]
  },
  {
   "cell_type": "code",
   "execution_count": null,
   "metadata": {},
   "outputs": [],
   "source": [
    "# Dropping useless columns - Train Data\n",
    "\n",
    "# train_data.drop(['state'], axis=1, inplace=True)\n",
    "train_data.drop(['city'], axis=1, inplace=True)\n",
    "train_data.drop(['Id'], axis=1, inplace=True)\n",
    "\n",
    "train_data.drop(['married'], axis=1, inplace=True)\n",
    "train_data.drop(['house_ownership'], axis=1, inplace=True)\n",
    "train_data.drop(['car_ownership'], axis=1, inplace=True)\n",
    "train_data.drop(['profession'], axis=1, inplace=True)\n",
    "train_data.drop(['state'], axis=1, inplace=True)\n",
    "\n",
    "train_data.drop(['income'], axis=1, inplace=True)\n",
    "train_data.drop(['age'], axis=1, inplace=True)\n",
    "train_data.drop(['experience'], axis=1, inplace=True)\n",
    "train_data.drop(['current_job_years'], axis=1, inplace=True)\n",
    "train_data.drop(['current_house_years'], axis=1, inplace=True)"
   ]
  },
  {
   "cell_type": "code",
   "execution_count": null,
   "metadata": {},
   "outputs": [],
   "source": [
    "# Dropping useless columns - Test Data\n",
    "\n",
    "# test_data.drop(['Uttar_Pradesh[5]'], axis=1, inplace=True)\n",
    "test_data.drop(['city'], axis=1, inplace=True)\n",
    "test_data.drop(['id'], axis=1, inplace=True)\n",
    "\n",
    "test_data.drop(['married'], axis=1, inplace=True)\n",
    "test_data.drop(['house_ownership'], axis=1, inplace=True)\n",
    "test_data.drop(['car_ownership'], axis=1, inplace=True)\n",
    "test_data.drop(['profession'], axis=1, inplace=True)\n",
    "test_data.drop(['state'], axis=1, inplace=True)\n",
    "\n",
    "test_data.drop(['income'], axis=1, inplace=True)\n",
    "test_data.drop(['age'], axis=1, inplace=True)\n",
    "test_data.drop(['experience'], axis=1, inplace=True)\n",
    "test_data.drop(['current_job_years'], axis=1, inplace=True)\n",
    "test_data.drop(['current_house_years'], axis=1, inplace=True)"
   ]
  },
  {
   "cell_type": "code",
   "execution_count": null,
   "metadata": {},
   "outputs": [],
   "source": [
    "# Change column names\n",
    "train_data.columns = [*train_data.columns[:-5], 'income', 'age', 'experience', 'current_job_years', 'current_house_years']\n",
    "test_data.columns = [*test_data.columns[:-5], 'income', 'age', 'experience', 'current_job_years', 'current_house_years']"
   ]
  },
  {
   "cell_type": "code",
   "execution_count": null,
   "metadata": {},
   "outputs": [],
   "source": [
    "# Get missing columns in the training test\n",
    "missing_cols = set( train_data.columns ) - set( test_data.columns )\n",
    "# Add a missing column in test set with default value equal to 0\n",
    "for c in missing_cols:\n",
    "    test_data[c] = 0\n",
    "# Ensure the order of column in the test set is in the same order than in train set\n",
    "test_data = test_data[train_data.columns]\n",
    "test_data.drop(['risk_flag'], axis=1, inplace=True)"
   ]
  },
  {
   "cell_type": "code",
   "execution_count": null,
   "metadata": {},
   "outputs": [],
   "source": [
    "y_train = train_data['risk_flag']\n",
    "X_train = train_data.drop(['risk_flag'], axis=1)"
   ]
  },
  {
   "cell_type": "code",
   "execution_count": null,
   "metadata": {},
   "outputs": [],
   "source": [
    "count_classes = pd.value_counts(train_data['risk_flag'], sort=True)\n",
    "count_classes.plot(kind='bar', rot=0)\n",
    "plt.title(\"Loan Risk Distribution\")\n",
    "plt.xlabel(\"Class\")\n",
    "plt.ylabel(\"Frequency\")"
   ]
  },
  {
   "cell_type": "code",
   "execution_count": null,
   "metadata": {},
   "outputs": [],
   "source": [
    "default = train_data[train_data['risk_flag']==1]\n",
    "normal = train_data[train_data['risk_flag']==0]"
   ]
  },
  {
   "cell_type": "markdown",
   "metadata": {},
   "source": [
    "# Training and Testing"
   ]
  },
  {
   "cell_type": "code",
   "execution_count": null,
   "metadata": {},
   "outputs": [],
   "source": [
    "from imblearn.under_sampling import RandomUnderSampler\n",
    "\n",
    "undersample = RandomUnderSampler(sampling_strategy=1)\n",
    "X_under, y_under = undersample.fit_resample(X_train, y_train)"
   ]
  },
  {
   "cell_type": "code",
   "execution_count": null,
   "metadata": {},
   "outputs": [],
   "source": [
    "from sklearn.model_selection import train_test_split\n",
    "\n",
    "X_train, X_test, y_train, y_test = train_test_split(X_under, y_under, test_size=0.2, random_state=42)"
   ]
  },
  {
   "cell_type": "code",
   "execution_count": null,
   "metadata": {},
   "outputs": [],
   "source": [
    "from sklearn.ensemble import ExtraTreesClassifier\n",
    "rf = ExtraTreesClassifier()\n",
    "rf.fit(X_train, y_train)"
   ]
  },
  {
   "cell_type": "code",
   "execution_count": null,
   "metadata": {},
   "outputs": [],
   "source": [
    "y_pred = rf.predict(X_test)"
   ]
  },
  {
   "cell_type": "code",
   "execution_count": null,
   "metadata": {},
   "outputs": [],
   "source": [
    "from sklearn.metrics import roc_auc_score\n",
    "\n",
    "print(roc_auc_score(y_test, y_pred))"
   ]
  },
  {
   "cell_type": "code",
   "execution_count": null,
   "metadata": {},
   "outputs": [],
   "source": [
    "from sklearn.metrics import confusion_matrix\n",
    "confusion_matrix(y_test, y_pred)"
   ]
  },
  {
   "cell_type": "code",
   "execution_count": null,
   "metadata": {},
   "outputs": [],
   "source": [
    "y_submit = rf.predict(test_data)"
   ]
  },
  {
   "cell_type": "code",
   "execution_count": null,
   "metadata": {},
   "outputs": [],
   "source": [
    "y_submit_csv = pd.DataFrame(y_submit)\n",
    "y_submit_csv['id'] = y_submit_csv.index + 1\n",
    "y_submit_csv = y_submit_csv[['id', 0]]\n",
    "y_submit_csv.columns = ['id', 'risk_flag']\n",
    "y_submit_csv = y_submit_csv.reset_index(drop=True)"
   ]
  },
  {
   "cell_type": "code",
   "execution_count": null,
   "metadata": {},
   "outputs": [],
   "source": [
    "y_submit_csv.head(50)"
   ]
  },
  {
   "cell_type": "code",
   "execution_count": null,
   "metadata": {},
   "outputs": [],
   "source": [
    "y_submit_csv.to_csv('submission.csv',index=False)"
   ]
  }
 ],
 "metadata": {
  "kernelspec": {
   "display_name": "Python 3",
   "language": "python",
   "name": "python3"
  },
  "language_info": {
   "codemirror_mode": {
    "name": "ipython",
    "version": 3
   },
   "file_extension": ".py",
   "mimetype": "text/x-python",
   "name": "python",
   "nbconvert_exporter": "python",
   "pygments_lexer": "ipython3",
   "version": "3.7.4"
  }
 },
 "nbformat": 4,
 "nbformat_minor": 2
}
